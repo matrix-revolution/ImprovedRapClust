{
 "cells": [
  {
   "cell_type": "code",
   "execution_count": 2,
   "metadata": {
    "collapsed": false
   },
   "outputs": [
    {
     "name": "stderr",
     "output_type": "stream",
     "text": [
      "/Users/rajeevkumar/anaconda/lib/python3.4/site-packages/pandas/computation/__init__.py:19: UserWarning: The installed version of numexpr 2.4.4 is not supported in pandas and will be not be used\n",
      "\n",
      "  UserWarning)\n"
     ]
    }
   ],
   "source": [
    "from __future__ import print_function\n",
    "import itertools\n",
    "import pandas as pd\n",
    "import numpy as np\n",
    "import os\n",
    "import logging\n",
    "import glob\n",
    "import networkx as nx\n",
    "import math\n",
    "from tqdm import tqdm"
   ]
  },
  {
   "cell_type": "code",
   "execution_count": 3,
   "metadata": {
    "collapsed": false
   },
   "outputs": [],
   "source": [
    "sampdirs = glob.glob('../../sailfish_quant/*')\n",
    "auxDir = \"aux\"\n",
    "cutoff = 0.5\n",
    "netfile = 'netfile'\n",
    "# output = rapObj.buildNetFile(sampdirs, netfile, cutoff, auxDir, False)\n",
    "ofile ='filterGraph_svm.txt'\n",
    "expDict = {\n",
    "    'scramble': {'SRR493366_quant': '../../sailfish_quant/SRR493366_quant',\n",
    "                 'SRR493367_quant': '../../sailfish_quant/SRR493367_quant',\n",
    "                 'SRR493368_quant': '../../sailfish_quant/SRR493368_quant'},\n",
    "    'HOXA1KD': {'SRR493369_quant': '../../sailfish_quant/SRR493369_quant',\n",
    "                'SRR493370_quant': '../../sailfish_quant/SRR493370_quant',\n",
    "                'SRR493371_quant': '../../sailfish_quant/SRR493371_quant'}\n",
    "}"
   ]
  },
  {
   "cell_type": "code",
   "execution_count": 4,
   "metadata": {
    "collapsed": true
   },
   "outputs": [],
   "source": [
    "class EquivCollection(object):\n",
    "    def __init__(self):\n",
    "        self.tnames = []\n",
    "        self.eqClasses = {}\n",
    "        self.hasNames = False\n",
    "\n",
    "    def setNames(self, names):\n",
    "        self.tnames = names\n",
    "        self.hasNames = True\n",
    "\n",
    "    def add(self, tids, count):\n",
    "        if tids in self.eqClasses:\n",
    "            self.eqClasses[tids] += count\n",
    "        else:\n",
    "            self.eqClasses[tids] = count\n"
   ]
  },
  {
   "cell_type": "code",
   "execution_count": 5,
   "metadata": {
    "collapsed": true
   },
   "outputs": [],
   "source": [
    "def readEqClass(eqfile, eqCollection):\n",
    "    with open(eqfile) as ifile:\n",
    "        numTran = int(ifile.readline().rstrip())\n",
    "        numEq = int(ifile.readline().rstrip())\n",
    "        print(\"\\nfile: {}; # tran = {}; # eq = {}\".format(eqfile, numTran, numEq))\n",
    "        if not eqCollection.hasNames:\n",
    "            tnames = []\n",
    "            for i in range(numTran):\n",
    "                tnames.append(ifile.readline().rstrip())\n",
    "            eqCollection.setNames(tnames)\n",
    "        else:\n",
    "            for i in range(numTran):\n",
    "                ifile.readline()\n",
    "\n",
    "        for i in range(numEq):\n",
    "            toks = list(map(int, ifile.readline().rstrip().split('\\t')))\n",
    "            nt = toks[0]\n",
    "            tids = tuple(toks[1:-1])\n",
    "            count = toks[-1]\n",
    "            eqCollection.add(tids, count)\n"
   ]
  },
  {
   "cell_type": "code",
   "execution_count": 6,
   "metadata": {
    "collapsed": true
   },
   "outputs": [],
   "source": [
    "def getCountsFromEquiv(eqCollection):\n",
    "        countDict = {}\n",
    "        tn = eqCollection.tnames\n",
    "        for tids, count in eqCollection.eqClasses.items():\n",
    "            for t in tids:\n",
    "                if tn[t] in countDict:\n",
    "                    countDict[tn[t]] += count\n",
    "                else:\n",
    "                    countDict[tn[t]] = count\n",
    "        # ensure no division by 0\n",
    "        for t in eqCollection.tnames:\n",
    "            if t in countDict:\n",
    "                countDict[t] += 1.0\n",
    "            else:\n",
    "                countDict[t] = 1.0\n",
    "        return countDict"
   ]
  },
  {
   "cell_type": "code",
   "execution_count": 7,
   "metadata": {
    "collapsed": false
   },
   "outputs": [
    {
     "name": "stdout",
     "output_type": "stream",
     "text": [
      "{'SRR493367_quant': '../../sailfish_quant/SRR493367_quant', 'SRR493368_quant': '../../sailfish_quant/SRR493368_quant', 'SRR493366_quant': '../../sailfish_quant/SRR493366_quant'}\n",
      "\n",
      "file: ../../sailfish_quant/SRR493367_quant/aux/eq_classes.txt; # tran = 107389; # eq = 98035\n",
      "\n",
      "file: ../../sailfish_quant/SRR493368_quant/aux/eq_classes.txt; # tran = 107389; # eq = 101801\n",
      "\n",
      "file: ../../sailfish_quant/SRR493366_quant/aux/eq_classes.txt; # tran = 107389; # eq = 95472\n",
      "{'SRR493371_quant': '../../sailfish_quant/SRR493371_quant', 'SRR493369_quant': '../../sailfish_quant/SRR493369_quant', 'SRR493370_quant': '../../sailfish_quant/SRR493370_quant'}\n",
      "\n",
      "file: ../../sailfish_quant/SRR493371_quant/aux/eq_classes.txt; # tran = 107389; # eq = 104868\n",
      "\n",
      "file: ../../sailfish_quant/SRR493369_quant/aux/eq_classes.txt; # tran = 107389; # eq = 100141\n",
      "\n",
      "file: ../../sailfish_quant/SRR493370_quant/aux/eq_classes.txt; # tran = 107389; # eq = 102891\n"
     ]
    }
   ],
   "source": [
    "# Get just the set of condition names\n",
    "conditions = expDict.keys()\n",
    "logging.info(\"conditions = {}\".format(conditions))\n",
    "eqClasses = {}\n",
    "for cond in conditions:\n",
    "    print(expDict[cond])\n",
    "    for sampNum, sampPath in expDict[cond].items():\n",
    "        if cond not in eqClasses:\n",
    "            eqClasses[cond] = EquivCollection()\n",
    "        eqPath = os.path.sep.join([sampPath, auxDir, \"eq_classes.txt\"])\n",
    "        readEqClass(eqPath, eqClasses[cond])"
   ]
  },
  {
   "cell_type": "code",
   "execution_count": 8,
   "metadata": {
    "collapsed": true
   },
   "outputs": [],
   "source": [
    "sep = os.path.sep\n",
    "sffiles = [sep.join([sd, 'quant.sf']) for sd in sampdirs]\n",
    "eqfiles = [sep.join([sd, auxDir, 'eq_classes.txt']) for sd in sampdirs]"
   ]
  },
  {
   "cell_type": "code",
   "execution_count": 13,
   "metadata": {
    "collapsed": false
   },
   "outputs": [],
   "source": [
    "def process_data(eqClass_counter, eqfile, numSamp, firstSamp, tnames, dict_eqClass, dic_uniq_transcripts):\n",
    "    print('Entered function')\n",
    "    with open(eqfile) as ifile:\n",
    "        numSamp += 1\n",
    "        numTran = int(ifile.readline().rstrip())\n",
    "        numEq = int(ifile.readline().rstrip())\n",
    "        if firstSamp:\n",
    "            for i in range(numTran):\n",
    "                tnames.append(ifile.readline().rstrip())\n",
    "        else:\n",
    "            for i in range(numTran):\n",
    "                ifile.readline()\n",
    "        for i in range(numEq): #numEq\n",
    "            eqClass_counter += 1\n",
    "            toks = list(map(int, ifile.readline().rstrip().split('\\t')))\n",
    "            tids = tuple(toks[1:-1])\n",
    "            readCount = toks[-1]\n",
    "            if tids not in dict_eqClass:\n",
    "                dict_eqClass[tids] = eqClass_counter    #eqClass_counter\n",
    "            for ids in tids:\n",
    "                if ids not in dic_uniq_transcripts:\n",
    "                    set_tup = set()\n",
    "                    set_tup.add(eqClass_counter)\n",
    "                    dic_uniq_transcripts[ids] = set_tup\n",
    "                else:\n",
    "                    set_tup = dic_uniq_transcripts[ids]\n",
    "                    set_tup.add(eqClass_counter)\n",
    "                    dic_uniq_transcripts[ids] = set_tup"
   ]
  },
  {
   "cell_type": "code",
   "execution_count": 14,
   "metadata": {
    "collapsed": false
   },
   "outputs": [
    {
     "name": "stdout",
     "output_type": "stream",
     "text": [
      "../../sailfish_quant/SRR493367_quant/aux/eq_classes.txt\n",
      "Entered function\n",
      "../../sailfish_quant/SRR493368_quant/aux/eq_classes.txt\n",
      "Entered function\n",
      "../../sailfish_quant/SRR493366_quant/aux/eq_classes.txt\n",
      "Entered function\n",
      "../../sailfish_quant/SRR493371_quant/aux/eq_classes.txt\n",
      "Entered function\n",
      "../../sailfish_quant/SRR493369_quant/aux/eq_classes.txt\n",
      "Entered function\n",
      "../../sailfish_quant/SRR493370_quant/aux/eq_classes.txt\n",
      "Entered function\n"
     ]
    }
   ],
   "source": [
    "cond = ['scramble', 'HOXA1KD']\n",
    "conditions_data = []\n",
    "condition1_data = None\n",
    "condition2_data = None\n",
    "for cond_val in cond:\n",
    "    condition1_paths = expDict[cond_val].values()\n",
    "    dict_eqClass = {}\n",
    "    dic_uniq_transcripts = {}\n",
    "    eqClass_counter = 0\n",
    "    for path in condition1_paths:\n",
    "        tnames = []\n",
    "        firstSamp = True\n",
    "        numSamp = 0\n",
    "        eqfile = os.path.sep.join([path, auxDir, \"eq_classes.txt\"])\n",
    "        print(eqfile)\n",
    "        process_data(eqClass_counter, eqfile, numSamp, firstSamp, tnames, dict_eqClass, dic_uniq_transcripts)\n",
    "    \n",
    "    lst_uniq_tids = dic_uniq_transcripts.keys()\n",
    "    dict_prob = {}\n",
    "    lst_keys = dict_eqClass.keys()\n",
    "    flag = True\n",
    "    for tup in lst_keys:\n",
    "        for t1,t2 in itertools.combinations(tup,2):  \n",
    "            readCount_t1 = 0\n",
    "            readCount_t2 = 0\n",
    "            readCount_t1t2 = 0\n",
    "            set_t1 = dic_uniq_transcripts[t1]\n",
    "            set_t2 = dic_uniq_transcripts[t2]\n",
    "            length_intersection = len(set_t1.intersection(set_t2))\n",
    "            length_union = len(set_t1.union(set_t2))\n",
    "            if length_intersection > 0:\n",
    "                dict_prob[(t1,t2)] = (length_intersection / len(set_t1), length_intersection / len(set_t2))\n",
    "    \n",
    "    conditions_data.append(dict_prob)\n",
    "\n",
    "condition1_data = conditions_data[0]\n",
    "condition2_data = conditions_data[1]"
   ]
  },
  {
   "cell_type": "code",
   "execution_count": 21,
   "metadata": {
    "collapsed": false
   },
   "outputs": [],
   "source": [
    "probSuccess_diff  = {}\n",
    "for k,cond1_val in condition1_data.items():\n",
    "    if k in condition2_data:\n",
    "        cond2_val = condition2_data[k]\n",
    "        ratio_1 = cond1_val[0]/cond2_val[1]\n",
    "        ratio_2 = cond2_val[0]/cond2_val[1]\n",
    "        diff = abs(ratio_1 - ratio_2)\n",
    "        probSuccess_diff[k] = diff"
   ]
  },
  {
   "cell_type": "code",
   "execution_count": 24,
   "metadata": {
    "collapsed": false
   },
   "outputs": [
    {
     "name": "stdout",
     "output_type": "stream",
     "text": [
      "116218\n"
     ]
    }
   ],
   "source": [
    "new_probSuccess = {}\n",
    "with open('ver2_output_clusterCount3.txt', 'w') as ofile:\n",
    "    for k,v in probSuccess_diff.items():\n",
    "        if v < 0.2 :   \n",
    "            t1_name = tnames[k[0]]\n",
    "            t2_name = tnames[k[1]]\n",
    "            new_probSuccess[(t1_name, t2_name)] = v\n",
    "            ofile.write(\"{}\\t{}\\t{}\\n\".format(t1_name, t2_name, v))\n",
    "print(len(new_probSuccess))"
   ]
  },
  {
   "cell_type": "code",
   "execution_count": 23,
   "metadata": {
    "collapsed": true
   },
   "outputs": [],
   "source": [
    "import seaborn as sb\n",
    "import matplotlib\n",
    "import matplotlib.pyplot as plt\n",
    "import matplotlib.mlab as mlab\n",
    "%matplotlib inline"
   ]
  },
  {
   "cell_type": "code",
   "execution_count": 90,
   "metadata": {
    "collapsed": false
   },
   "outputs": [],
   "source": [
    "result_table = pd.DataFrame()\n",
    "model1 = [0.9767, 0.07666, 0.142170]\n",
    "model2 = [0.9769021, 0.0762835, 0.14151]\n",
    "model3 = [0.97820, 0.08015, 0.14817]\n",
    "model4 = [0.9802699, 0.066665, 0.124840]\n",
    "# result_table = pd.DataFrame({'Model 1': model1, 'Model 2': model2, 'Model 3': model3, 'Model 4': model4})\n",
    "# values = [0.9767, 0.07666, 0.142170, 0.9769021, 0.0762835, 0.14151, 0.97820, 0.08015, 0.14817, 0.9802699, 0.066665, 0.124840]\n",
    "\n",
    "# values = [0.9777, 0.08828, 0.161945, 0.9715173, 0.0731545, 0.13606, 0.97771, 0.08392, 0.15458, 0.9786245, 0.065386,0.12258]\n",
    "values = [0.978, 0.07867, 0.14563, 0.9787939, 0.0784275, 0.14521, 0.97902, 0.07812, 0.14470, 0.97930524, 0.0694378, 0.1296807]\n",
    "modelType = ['Model 1', 'Model 1', 'Model 1', 'Model 2', 'Model 2', 'Model 2', \n",
    "             'Model 3', 'Model 3', 'Model 3', 'Model 4', 'Model 4', 'Model 4']\n",
    "resultCategory = ['Precision', 'Recall', 'F-1','Precision', 'Recall', 'F-1', 'Precision', \n",
    "                  'Recall', 'F-1', 'Precision', 'Recall', 'F-1']\n",
    "result_table = pd.DataFrame({'Data': values, 'Model Type': modelType, 'Result Category': resultCategory})"
   ]
  },
  {
   "cell_type": "code",
   "execution_count": 91,
   "metadata": {
    "collapsed": false
   },
   "outputs": [
    {
     "data": {
      "text/plain": [
       "<matplotlib.axes._subplots.AxesSubplot at 0x12708f748>"
      ]
     },
     "execution_count": 91,
     "metadata": {},
     "output_type": "execute_result"
    },
    {
     "data": {
      "image/png": "[encoded data removed]",
      "text/plain": [
       "<matplotlib.figure.Figure at 0x127084278>"
      ]
     },
     "metadata": {},
     "output_type": "display_data"
    }
   ],
   "source": [
    "plt.figure(figsize=(8, 3))\n",
    "sb.barplot(data=result_table, x='Model Type', y='Data', hue='Result Category')"
   ]
  },
  {
   "cell_type": "code",
   "execution_count": 58,
   "metadata": {
    "collapsed": false
   },
   "outputs": [
    {
     "data": {
      "text/html": [
       "<div>\n",
       "<table border=\"1\" class=\"dataframe\">\n",
       "  <thead>\n",
       "    <tr style=\"text-align: right;\">\n",
       "      <th></th>\n",
       "      <th>Data</th>\n",
       "      <th>Model Type</th>\n",
       "      <th>Result Category</th>\n",
       "    </tr>\n",
       "  </thead>\n",
       "  <tbody>\n",
       "    <tr>\n",
       "      <th>0</th>\n",
       "      <td>0.976700</td>\n",
       "      <td>Model 1</td>\n",
       "      <td>Precision</td>\n",
       "    </tr>\n",
       "    <tr>\n",
       "      <th>1</th>\n",
       "      <td>0.076660</td>\n",
       "      <td>Model 1</td>\n",
       "      <td>Recall</td>\n",
       "    </tr>\n",
       "    <tr>\n",
       "      <th>2</th>\n",
       "      <td>0.142170</td>\n",
       "      <td>Model 1</td>\n",
       "      <td>F-1</td>\n",
       "    </tr>\n",
       "    <tr>\n",
       "      <th>3</th>\n",
       "      <td>0.976902</td>\n",
       "      <td>Model 2</td>\n",
       "      <td>Precision</td>\n",
       "    </tr>\n",
       "    <tr>\n",
       "      <th>4</th>\n",
       "      <td>0.076284</td>\n",
       "      <td>Model 2</td>\n",
       "      <td>Recall</td>\n",
       "    </tr>\n",
       "    <tr>\n",
       "      <th>5</th>\n",
       "      <td>0.141510</td>\n",
       "      <td>Model 2</td>\n",
       "      <td>F-1</td>\n",
       "    </tr>\n",
       "    <tr>\n",
       "      <th>6</th>\n",
       "      <td>0.978200</td>\n",
       "      <td>Model 3</td>\n",
       "      <td>Precision</td>\n",
       "    </tr>\n",
       "    <tr>\n",
       "      <th>7</th>\n",
       "      <td>0.080150</td>\n",
       "      <td>Model 3</td>\n",
       "      <td>Recall</td>\n",
       "    </tr>\n",
       "    <tr>\n",
       "      <th>8</th>\n",
       "      <td>0.148170</td>\n",
       "      <td>Model 3</td>\n",
       "      <td>F-1</td>\n",
       "    </tr>\n",
       "    <tr>\n",
       "      <th>9</th>\n",
       "      <td>0.980270</td>\n",
       "      <td>Model 4</td>\n",
       "      <td>Precision</td>\n",
       "    </tr>\n",
       "    <tr>\n",
       "      <th>10</th>\n",
       "      <td>0.066665</td>\n",
       "      <td>Model 4</td>\n",
       "      <td>Recall</td>\n",
       "    </tr>\n",
       "    <tr>\n",
       "      <th>11</th>\n",
       "      <td>0.124840</td>\n",
       "      <td>Model 4</td>\n",
       "      <td>F-1</td>\n",
       "    </tr>\n",
       "  </tbody>\n",
       "</table>\n",
       "</div>"
      ],
      "text/plain": [
       "        Data Model Type Result Category\n",
       "0   0.976700    Model 1       Precision\n",
       "1   0.076660    Model 1          Recall\n",
       "2   0.142170    Model 1             F-1\n",
       "3   0.976902    Model 2       Precision\n",
       "4   0.076284    Model 2          Recall\n",
       "5   0.141510    Model 2             F-1\n",
       "6   0.978200    Model 3       Precision\n",
       "7   0.080150    Model 3          Recall\n",
       "8   0.148170    Model 3             F-1\n",
       "9   0.980270    Model 4       Precision\n",
       "10  0.066665    Model 4          Recall\n",
       "11  0.124840    Model 4             F-1"
      ]
     },
     "execution_count": 58,
     "metadata": {},
     "output_type": "execute_result"
    }
   ],
   "source": [
    "sns.barplot(x=\"day\", y=\"total_bill\", data=tips)"
   ]
  },
  {
   "cell_type": "code",
   "execution_count": null,
   "metadata": {
    "collapsed": true
   },
   "outputs": [],
   "source": []
  }
 ],
 "metadata": {
  "kernelspec": {
   "display_name": "Python 3",
   "language": "python",
   "name": "python_tensor"
  },
  "language_info": {
   "codemirror_mode": {
    "name": "ipython",
    "version": 3
   },
   "file_extension": ".py",
   "mimetype": "text/x-python",
   "name": "python",
   "nbconvert_exporter": "python",
   "pygments_lexer": "ipython3",
   "version": "3.4.5"
  }
 },
 "nbformat": 4,
 "nbformat_minor": 0
}
