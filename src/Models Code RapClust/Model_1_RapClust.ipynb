{
 "cells": [
  {
   "cell_type": "code",
   "execution_count": 1,
   "metadata": {
    "collapsed": false
   },
   "outputs": [
    {
     "name": "stderr",
     "output_type": "stream",
     "text": [
      "/Users/rajeevkumar/anaconda/lib/python3.4/site-packages/pandas/computation/__init__.py:19: UserWarning: The installed version of numexpr 2.4.4 is not supported in pandas and will be not be used\n",
      "\n",
      "  UserWarning)\n"
     ]
    }
   ],
   "source": [
    "from __future__ import print_function\n",
    "import itertools\n",
    "import pandas as pd\n",
    "import numpy as np\n",
    "import os\n",
    "import logging\n",
    "import glob\n",
    "import networkx as nx\n",
    "import math\n",
    "from tqdm import tqdm"
   ]
  },
  {
   "cell_type": "code",
   "execution_count": 2,
   "metadata": {
    "collapsed": false
   },
   "outputs": [],
   "source": [
    "sampdirs = glob.glob('../../sailfish_quant/*')\n",
    "auxDir = \"aux\"\n",
    "cutoff = 0.5\n",
    "netfile = 'netfile'\n",
    "# output = rapObj.buildNetFile(sampdirs, netfile, cutoff, auxDir, False)\n",
    "ofile ='filterGraph_svm.txt'\n",
    "expDict = {\n",
    "    'scramble': {'SRR493366_quant': '../../sailfish_quant/SRR493366_quant',\n",
    "                 'SRR493367_quant': '../../sailfish_quant/SRR493367_quant',\n",
    "                 'SRR493368_quant': '../../sailfish_quant/SRR493368_quant'},\n",
    "    'HOXA1KD': {'SRR493369_quant': '../../sailfish_quant/SRR493369_quant',\n",
    "                'SRR493370_quant': '../../sailfish_quant/SRR493370_quant',\n",
    "                'SRR493371_quant': '../../sailfish_quant/SRR493371_quant'}\n",
    "}"
   ]
  },
  {
   "cell_type": "code",
   "execution_count": 3,
   "metadata": {
    "collapsed": true
   },
   "outputs": [],
   "source": [
    "class EquivCollection(object):\n",
    "    def __init__(self):\n",
    "        self.tnames = []\n",
    "        self.eqClasses = {}\n",
    "        self.hasNames = False\n",
    "\n",
    "    def setNames(self, names):\n",
    "        self.tnames = names\n",
    "        self.hasNames = True\n",
    "\n",
    "    def add(self, tids, count):\n",
    "        if tids in self.eqClasses:\n",
    "            self.eqClasses[tids] += count\n",
    "        else:\n",
    "            self.eqClasses[tids] = count\n"
   ]
  },
  {
   "cell_type": "code",
   "execution_count": 4,
   "metadata": {
    "collapsed": true
   },
   "outputs": [],
   "source": [
    "def readEqClass(eqfile, eqCollection):\n",
    "    with open(eqfile) as ifile:\n",
    "        numTran = int(ifile.readline().rstrip())\n",
    "        numEq = int(ifile.readline().rstrip())\n",
    "        print(\"\\nfile: {}; # tran = {}; # eq = {}\".format(eqfile, numTran, numEq))\n",
    "        if not eqCollection.hasNames:\n",
    "            tnames = []\n",
    "            for i in range(numTran):\n",
    "                tnames.append(ifile.readline().rstrip())\n",
    "            eqCollection.setNames(tnames)\n",
    "        else:\n",
    "            for i in range(numTran):\n",
    "                ifile.readline()\n",
    "\n",
    "        for i in range(numEq):\n",
    "            toks = list(map(int, ifile.readline().rstrip().split('\\t')))\n",
    "            nt = toks[0]\n",
    "            tids = tuple(toks[1:-1])\n",
    "            count = toks[-1]\n",
    "            eqCollection.add(tids, count)\n"
   ]
  },
  {
   "cell_type": "code",
   "execution_count": 5,
   "metadata": {
    "collapsed": true
   },
   "outputs": [],
   "source": [
    "def getCountsFromEquiv(eqCollection):\n",
    "        countDict = {}\n",
    "        tn = eqCollection.tnames\n",
    "        for tids, count in eqCollection.eqClasses.items():\n",
    "            for t in tids:\n",
    "                if tn[t] in countDict:\n",
    "                    countDict[tn[t]] += count\n",
    "                else:\n",
    "                    countDict[tn[t]] = count\n",
    "        # ensure no division by 0\n",
    "        for t in eqCollection.tnames:\n",
    "            if t in countDict:\n",
    "                countDict[t] += 1.0\n",
    "            else:\n",
    "                countDict[t] = 1.0\n",
    "        return countDict"
   ]
  },
  {
   "cell_type": "code",
   "execution_count": 6,
   "metadata": {
    "collapsed": false
   },
   "outputs": [
    {
     "name": "stdout",
     "output_type": "stream",
     "text": [
      "{'SRR493370_quant': '../../sailfish_quant/SRR493370_quant', 'SRR493369_quant': '../../sailfish_quant/SRR493369_quant', 'SRR493371_quant': '../../sailfish_quant/SRR493371_quant'}\n",
      "\n",
      "file: ../../sailfish_quant/SRR493370_quant/aux/eq_classes.txt; # tran = 107389; # eq = 102891\n",
      "\n",
      "file: ../../sailfish_quant/SRR493369_quant/aux/eq_classes.txt; # tran = 107389; # eq = 100141\n",
      "\n",
      "file: ../../sailfish_quant/SRR493371_quant/aux/eq_classes.txt; # tran = 107389; # eq = 104868\n",
      "{'SRR493366_quant': '../../sailfish_quant/SRR493366_quant', 'SRR493368_quant': '../../sailfish_quant/SRR493368_quant', 'SRR493367_quant': '../../sailfish_quant/SRR493367_quant'}\n",
      "\n",
      "file: ../../sailfish_quant/SRR493366_quant/aux/eq_classes.txt; # tran = 107389; # eq = 95472\n",
      "\n",
      "file: ../../sailfish_quant/SRR493368_quant/aux/eq_classes.txt; # tran = 107389; # eq = 101801\n",
      "\n",
      "file: ../../sailfish_quant/SRR493367_quant/aux/eq_classes.txt; # tran = 107389; # eq = 98035\n"
     ]
    }
   ],
   "source": [
    "# Get just the set of condition names\n",
    "conditions = expDict.keys()\n",
    "logging.info(\"conditions = {}\".format(conditions))\n",
    "eqClasses = {}\n",
    "for cond in conditions:\n",
    "    print(expDict[cond])\n",
    "    for sampNum, sampPath in expDict[cond].items():\n",
    "        if cond not in eqClasses:\n",
    "            eqClasses[cond] = EquivCollection()\n",
    "        eqPath = os.path.sep.join([sampPath, auxDir, \"eq_classes.txt\"])\n",
    "        readEqClass(eqPath, eqClasses[cond])"
   ]
  },
  {
   "cell_type": "code",
   "execution_count": 7,
   "metadata": {
    "collapsed": true
   },
   "outputs": [],
   "source": [
    "sep = os.path.sep\n",
    "sffiles = [sep.join([sd, 'quant.sf']) for sd in sampdirs]\n",
    "eqfiles = [sep.join([sd, auxDir, 'eq_classes.txt']) for sd in sampdirs]"
   ]
  },
  {
   "cell_type": "code",
   "execution_count": 8,
   "metadata": {
    "collapsed": false
   },
   "outputs": [],
   "source": [
    "def process_data(eqClass_counter, eqfile, numSamp, firstSamp, tnames, dict_eqClass, dic_uniq_transcripts):\n",
    "    print('Entered function')\n",
    "    with open(eqfile) as ifile:\n",
    "        numSamp += 1\n",
    "        numTran = int(ifile.readline().rstrip())\n",
    "        numEq = int(ifile.readline().rstrip())\n",
    "        if firstSamp:\n",
    "            for i in range(numTran):\n",
    "                tnames.append(ifile.readline().rstrip())\n",
    "        else:\n",
    "            for i in range(numTran):\n",
    "                ifile.readline()\n",
    "        for i in range(numEq): #numEq\n",
    "            eqClass_counter += 1\n",
    "            toks = list(map(int, ifile.readline().rstrip().split('\\t')))\n",
    "            tids = tuple(toks[1:-1])\n",
    "            count = toks[-1]\n",
    "            if tids not in dict_eqClass:\n",
    "                dict_eqClass[tids] = eqClass_counter\n",
    "                for ids in tids:\n",
    "                    if ids not in dic_uniq_transcripts:\n",
    "                        dic_uniq_transcripts[ids] = set([eqClass_counter])\n",
    "                    else:\n",
    "    #                     print('duplicate')\n",
    "                        set_counter = dic_uniq_transcripts[ids]\n",
    "                        set_counter.add(eqClass_counter)\n",
    "                        dic_uniq_transcripts[ids] = set_counter\n"
   ]
  },
  {
   "cell_type": "code",
   "execution_count": 9,
   "metadata": {
    "collapsed": false
   },
   "outputs": [
    {
     "name": "stdout",
     "output_type": "stream",
     "text": [
      "../../sailfish_quant/SRR493366_quant/aux/eq_classes.txt\n",
      "Entered function\n",
      "../../sailfish_quant/SRR493368_quant/aux/eq_classes.txt\n",
      "Entered function\n",
      "../../sailfish_quant/SRR493367_quant/aux/eq_classes.txt\n",
      "Entered function\n",
      "../../sailfish_quant/SRR493370_quant/aux/eq_classes.txt\n",
      "Entered function\n",
      "../../sailfish_quant/SRR493369_quant/aux/eq_classes.txt\n",
      "Entered function\n",
      "../../sailfish_quant/SRR493371_quant/aux/eq_classes.txt\n",
      "Entered function\n"
     ]
    }
   ],
   "source": [
    "cond = ['scramble', 'HOXA1KD']\n",
    "conditions_data = []\n",
    "condition1_data = None\n",
    "condition2_data = None\n",
    "for cond_val in cond:\n",
    "    condition1_paths = expDict[cond_val].values()\n",
    "    dict_eqClass = {}\n",
    "    dic_uniq_transcripts = {}\n",
    "    eqClass_counter = 0\n",
    "    for path in condition1_paths:\n",
    "        tnames = []\n",
    "        firstSamp = True\n",
    "        numSamp = 0\n",
    "        eqfile = os.path.sep.join([path, auxDir, \"eq_classes.txt\"])\n",
    "        print(eqfile)\n",
    "        process_data(eqClass_counter, eqfile, numSamp, firstSamp, tnames, dict_eqClass, dic_uniq_transcripts)\n",
    "    \n",
    "    lst_uniq_tids = dic_uniq_transcripts.keys()\n",
    "    dict_prob = {}\n",
    "    lst_keys = dict_eqClass.keys()\n",
    "    flag = True\n",
    "    for tup in lst_keys:\n",
    "        for t1,t2 in itertools.combinations(tup,2):\n",
    "            set_t1 = dic_uniq_transcripts[t1]\n",
    "            set_t2 = dic_uniq_transcripts[t2]\n",
    "            length_intersection = len(set_t1.intersection(set_t2))\n",
    "            length_union = len(set_t1.union(set_t2))\n",
    "            if length_intersection > 0:\n",
    "                dict_prob[(t1,t2)] = length_intersection / length_union\n",
    "    \n",
    "    conditions_data.append(dict_prob)\n",
    "\n",
    "condition1_data = conditions_data[0]\n",
    "condition2_data = conditions_data[1]\n",
    "        "
   ]
  },
  {
   "cell_type": "code",
   "execution_count": 10,
   "metadata": {
    "collapsed": false
   },
   "outputs": [],
   "source": [
    "probSuccess_diff  = {}\n",
    "for k,cond1_val in condition1_data.items():\n",
    "    if k in condition2_data:\n",
    "        cond2_val = condition2_data[k]\n",
    "        diff = abs(cond2_val - cond1_val)\n",
    "        probSuccess_diff[k] = diff"
   ]
  },
  {
   "cell_type": "code",
   "execution_count": 12,
   "metadata": {
    "collapsed": false
   },
   "outputs": [],
   "source": [
    "new_probSuccess = {}\n",
    "with open('new_output_ver1_3.txt', 'w') as ofile:\n",
    "    for k,v in probSuccess_diff.items():\n",
    "        if v < 0.2 :   \n",
    "            t1_name = tnames[k[0]]\n",
    "            t2_name = tnames[k[1]]\n",
    "            new_probSuccess[(t1_name, t2_name)] = v\n",
    "            ofile.write(\"{}\\t{}\\t{}\\n\".format(t1_name, t2_name, v))"
   ]
  }
 ],
 "metadata": {
  "kernelspec": {
   "display_name": "Python 3",
   "language": "python",
   "name": "python_tensor"
  },
  "language_info": {
   "codemirror_mode": {
    "name": "ipython",
    "version": 3
   },
   "file_extension": ".py",
   "mimetype": "text/x-python",
   "name": "python",
   "nbconvert_exporter": "python",
   "pygments_lexer": "ipython3",
   "version": "3.4.5"
  }
 },
 "nbformat": 4,
 "nbformat_minor": 0
}
